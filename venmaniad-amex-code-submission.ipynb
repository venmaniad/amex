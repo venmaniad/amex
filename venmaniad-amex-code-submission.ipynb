{
 "cells": [
  {
   "cell_type": "markdown",
   "metadata": {},
   "source": [
    "### Importing the required libraries"
   ]
  },
  {
   "cell_type": "code",
   "execution_count": 22,
   "metadata": {
    "execution": {
     "iopub.execute_input": "2022-10-26T15:18:07.458887Z",
     "iopub.status.busy": "2022-10-26T15:18:07.457660Z",
     "iopub.status.idle": "2022-10-26T15:18:07.467221Z",
     "shell.execute_reply": "2022-10-26T15:18:07.466058Z",
     "shell.execute_reply.started": "2022-10-26T15:18:07.458834Z"
    }
   },
   "outputs": [],
   "source": [
    "# importing all the required libraries\n",
    "import pandas as pd\n",
    "import numpy as np\n",
    "import matplotlib.pyplot as plt\n",
    "import seaborn as sns\n",
    "from sklearn.preprocessing import LabelEncoder\n",
    "from sklearn.model_selection import train_test_split\n",
    "from lightgbm import LGBMClassifier\n",
    "from catboost import CatBoostClassifier\n",
    "from sklearn.impute import SimpleImputer\n",
    "from sklearn.metrics import accuracy_score\n",
    "from sklearn import metrics\n",
    "from sklearn.ensemble import IsolationForest\n",
    "from sklearn.model_selection import StratifiedKFold"
   ]
  },
  {
   "cell_type": "markdown",
   "metadata": {},
   "source": [
    "### Importing the training and test dataset"
   ]
  },
  {
   "cell_type": "code",
   "execution_count": 23,
   "metadata": {
    "execution": {
     "iopub.execute_input": "2022-10-26T15:18:07.610161Z",
     "iopub.status.busy": "2022-10-26T15:18:07.609712Z",
     "iopub.status.idle": "2022-10-26T15:18:36.387241Z",
     "shell.execute_reply": "2022-10-26T15:18:36.385794Z",
     "shell.execute_reply.started": "2022-10-26T15:18:07.610120Z"
    }
   },
   "outputs": [],
   "source": [
    "#importing the training and test data and removing the \"ID\" column\n",
    "train = pd.read_csv(\"train_allx.csv\")\n",
    "train.drop(\"ID\", axis=1, inplace=True)\n",
    "# importing the test data accordingly\n",
    "test = pd.read_csv(\"test.csv\")\n",
    "ids = test[\"ID\"]\n",
    "test.drop(\"ID\", axis=1, inplace=True)\n",
    "cols = train.columns"
   ]
  },
  {
   "cell_type": "markdown",
   "metadata": {},
   "source": [
    "### Working with Categorical Features\n",
    "Since there are no null values in both the categorical columns (D_36 and D_44), I am using label encoder straight away"
   ]
  },
  {
   "cell_type": "code",
   "execution_count": 24,
   "metadata": {
    "execution": {
     "iopub.execute_input": "2022-10-26T15:18:36.389780Z",
     "iopub.status.busy": "2022-10-26T15:18:36.389368Z",
     "iopub.status.idle": "2022-10-26T15:18:36.815438Z",
     "shell.execute_reply": "2022-10-26T15:18:36.813906Z",
     "shell.execute_reply.started": "2022-10-26T15:18:36.389743Z"
    }
   },
   "outputs": [],
   "source": [
    "le = LabelEncoder()\n",
    "train['D_36'] = le.fit_transform(train['D_36'])\n",
    "test['D_36'] = le.transform(test['D_36'])\n",
    "le = LabelEncoder()\n",
    "train['D_44'] = le.fit_transform(train['D_44'])\n",
    "test['D_44'] = le.transform(test['D_44'])"
   ]
  },
  {
   "cell_type": "markdown",
   "metadata": {},
   "source": [
    "### Working with Numerical Features\n",
    "\n",
    "For numerical features, I am using a simple imputer to fill the null values with mean value. And also before doing this, I am removing all the columns which have more than 80% features as NULL values"
   ]
  },
  {
   "cell_type": "code",
   "execution_count": 25,
   "metadata": {
    "execution": {
     "iopub.execute_input": "2022-10-26T15:18:36.817745Z",
     "iopub.status.busy": "2022-10-26T15:18:36.817334Z",
     "iopub.status.idle": "2022-10-26T15:18:42.873722Z",
     "shell.execute_reply": "2022-10-26T15:18:42.872433Z",
     "shell.execute_reply.started": "2022-10-26T15:18:36.817707Z"
    }
   },
   "outputs": [
    {
     "name": "stdout",
     "output_type": "stream",
     "text": [
      "Dropping the column -  D_38\n",
      "Dropping the column -  B_26\n",
      "Dropping the column -  D_17\n",
      "Dropping the column -  R_8\n",
      "Dropping the column -  D_73\n",
      "Dropping the column -  B_7\n",
      "Dropping the column -  B_22\n",
      "Dropping the column -  D_80\n",
      "Dropping the column -  D_97\n",
      "Dropping the column -  D_12\n",
      "Dropping the column -  D_132\n",
      "Dropping the column -  D_114\n",
      "Dropping the column -  D_96\n",
      "Dropping the column -  D_39\n",
      "Dropping the column -  D_43\n"
     ]
    }
   ],
   "source": [
    "cols = train.columns\n",
    "for i in range(len(cols)):\n",
    "    if train[cols[i]].isna().sum()*100/len(train)>90:\n",
    "        train.drop(cols[i], axis=1, inplace=True)\n",
    "        test.drop(cols[i], axis=1, inplace=True)\n",
    "        print(\"Dropping the column - \", cols[i])"
   ]
  },
  {
   "cell_type": "code",
   "execution_count": 26,
   "metadata": {
    "execution": {
     "iopub.execute_input": "2022-10-26T15:18:42.876393Z",
     "iopub.status.busy": "2022-10-26T15:18:42.875945Z",
     "iopub.status.idle": "2022-10-26T15:18:44.483128Z",
     "shell.execute_reply": "2022-10-26T15:18:44.482001Z",
     "shell.execute_reply.started": "2022-10-26T15:18:42.876361Z"
    }
   },
   "outputs": [],
   "source": [
    "train = train.fillna(train.mean())\n",
    "test = test.fillna(train.mean())"
   ]
  },
  {
   "cell_type": "markdown",
   "metadata": {},
   "source": [
    "### Anomaly detection using Isolation Forest\n"
   ]
  },
  {
   "cell_type": "code",
   "execution_count": 27,
   "metadata": {
    "execution": {
     "iopub.execute_input": "2022-10-26T15:18:44.484747Z",
     "iopub.status.busy": "2022-10-26T15:18:44.484399Z",
     "iopub.status.idle": "2022-10-26T15:21:03.926010Z",
     "shell.execute_reply": "2022-10-26T15:21:03.924901Z",
     "shell.execute_reply.started": "2022-10-26T15:18:44.484716Z"
    }
   },
   "outputs": [
    {
     "name": "stderr",
     "output_type": "stream",
     "text": [
      "/opt/conda/lib/python3.7/site-packages/sklearn/base.py:451: UserWarning: X does not have valid feature names, but IsolationForest was fitted with feature names\n",
      "  \"X does not have valid feature names, but\"\n"
     ]
    }
   ],
   "source": [
    "y = pd.read_csv(\"train_y.csv\")\n",
    "train['y'] = y['Default_Flag']\n",
    "# contamination = 0.01 is used so that the top 1% of the outliers will be removed from the dataset\n",
    "isf = IsolationForest(contamination = 0.01)\n",
    "isf.fit(train)\n",
    "outliers = isf.predict(train)"
   ]
  },
  {
   "cell_type": "code",
   "execution_count": 28,
   "metadata": {
    "execution": {
     "iopub.execute_input": "2022-10-26T15:21:03.928071Z",
     "iopub.status.busy": "2022-10-26T15:21:03.927623Z",
     "iopub.status.idle": "2022-10-26T15:21:04.700842Z",
     "shell.execute_reply": "2022-10-26T15:21:04.699485Z",
     "shell.execute_reply.started": "2022-10-26T15:21:03.928026Z"
    }
   },
   "outputs": [],
   "source": [
    "# we wont be using the outliers while training, so we are removing those\n",
    "train['out'] = outliers\n",
    "train = train[train['out']==1]\n",
    "train.drop(\"out\", axis=1, inplace=True)\n",
    "y = train['y']\n",
    "train.drop(\"y\", axis=1, inplace=True)"
   ]
  },
  {
   "cell_type": "markdown",
   "metadata": {},
   "source": [
    "### 10-Fold LightGBM Classifier\n",
    "\n",
    "We will be using 90% of the dataset everytime for training and then averaging out the predictions to get the final output."
   ]
  },
  {
   "cell_type": "code",
   "execution_count": 29,
   "metadata": {
    "execution": {
     "iopub.execute_input": "2022-10-26T15:21:04.702811Z",
     "iopub.status.busy": "2022-10-26T15:21:04.702372Z",
     "iopub.status.idle": "2022-10-26T15:25:01.118700Z",
     "shell.execute_reply": "2022-10-26T15:25:01.117457Z",
     "shell.execute_reply.started": "2022-10-26T15:21:04.702771Z"
    }
   },
   "outputs": [
    {
     "name": "stdout",
     "output_type": "stream",
     "text": [
      "0 0.8178102363296598\n",
      "0 [[109730    475   2450    684]\n",
      " [  1674   5590   2953    222]\n",
      " [  5333   1423   7467    939]\n",
      " [  6230    539   4669   1063]]\n",
      "1 0.8152745953869824\n",
      "1 [[109003    508   2941    887]\n",
      " [  1493   5576   3131    239]\n",
      " [  5027   1345   7671   1120]\n",
      " [  5809    562   4913   1216]]\n",
      "2 0.8157236151372481\n",
      "2 [[108962    477   2999    901]\n",
      " [  1496   5554   3144    246]\n",
      " [  4953   1278   7852   1079]\n",
      " [  5855    530   4949   1166]]\n"
     ]
    }
   ],
   "source": [
    "strtfdKFold = StratifiedKFold(n_splits=10)\n",
    "kfold = strtfdKFold.split(train, y)\n",
    "scores = []\n",
    "# predprobs for lightgbm\n",
    "predprobs = 0\n",
    "train1 = train.copy()\n",
    "test1 = test.copy()\n",
    "pipeline = LGBMClassifier()\n",
    "for k, (train, test) in enumerate(kfold):\n",
    "    pipeline.fit(train1.iloc[train, :], y.iloc[train])\n",
    "    pred = pipeline.predict(train1.iloc[test,:])\n",
    "    score = metrics.accuracy_score(y.iloc[test], pred)\n",
    "    print(k, score) \n",
    "    print(k, metrics.confusion_matrix(y.iloc[test], pred))\n",
    "    predprobs = predprobs + pipeline.predict_proba(test1)"
   ]
  },
  {
   "cell_type": "markdown",
   "metadata": {},
   "source": [
    "### 10-Fold CatBoost Classifier"
   ]
  },
  {
   "cell_type": "code",
   "execution_count": null,
   "metadata": {},
   "outputs": [],
   "source": [
    "strtfdKFold = StratifiedKFold(n_splits=10)\n",
    "kfold = strtfdKFold.split(train1, y)\n",
    "scores = []\n",
    "# predprobs1 for catboost\n",
    "predprobs1 = 0\n",
    "pipeline = CatBoostClassifier()\n",
    "for k, (train, test) in enumerate(kfold):\n",
    "    pipeline.fit(train1.iloc[train, :], y.iloc[train])\n",
    "    pred = pipeline.predict(train1.iloc[test,:])\n",
    "    score = metrics.accuracy_score(y.iloc[test], pred)\n",
    "    print(k, score) \n",
    "    print(k, metrics.confusion_matrix(y.iloc[test], pred))\n",
    "    predprobs1 = predprobs1 + pipeline.predict_proba(test1)"
   ]
  },
  {
   "cell_type": "code",
   "execution_count": 44,
   "metadata": {
    "execution": {
     "iopub.execute_input": "2022-10-26T16:00:12.480739Z",
     "iopub.status.busy": "2022-10-26T16:00:12.479998Z",
     "iopub.status.idle": "2022-10-26T16:00:12.489795Z",
     "shell.execute_reply": "2022-10-26T16:00:12.488980Z",
     "shell.execute_reply.started": "2022-10-26T16:00:12.480696Z"
    }
   },
   "outputs": [
    {
     "data": {
      "text/plain": [
       "array([[9.96887708e-01, 3.52826179e-04, 1.07613483e-03, 1.68333075e-03],\n",
       "       [7.33042438e-01, 1.77865243e-02, 1.11561521e-01, 1.37609517e-01],\n",
       "       [9.45612844e-02, 1.67290113e-01, 4.51422392e-01, 2.86726210e-01],\n",
       "       ...,\n",
       "       [6.05227722e-02, 1.44702322e-01, 5.28506056e-01, 2.66268849e-01],\n",
       "       [9.93579092e-01, 8.98342355e-04, 2.11308840e-03, 3.40947725e-03],\n",
       "       [9.92082077e-01, 4.62432398e-04, 2.38644688e-03, 5.06904376e-03]])"
      ]
     },
     "execution_count": 44,
     "metadata": {},
     "output_type": "execute_result"
    }
   ],
   "source": [
    "# averaging out the predictions\n",
    "predprobsnew = predprobs/10\n",
    "predprobs1new = predprobs1/10"
   ]
  },
  {
   "cell_type": "markdown",
   "metadata": {},
   "source": [
    "### Using the optimized values of mix (lightgbm, catboost) to make the final predictions"
   ]
  },
  {
   "cell_type": "code",
   "execution_count": 47,
   "metadata": {
    "execution": {
     "iopub.execute_input": "2022-10-26T16:01:06.539032Z",
     "iopub.status.busy": "2022-10-26T16:01:06.538610Z",
     "iopub.status.idle": "2022-10-26T16:01:06.559373Z",
     "shell.execute_reply": "2022-10-26T16:01:06.558245Z",
     "shell.execute_reply.started": "2022-10-26T16:01:06.538994Z"
    }
   },
   "outputs": [
    {
     "data": {
      "text/plain": [
       "array([[9.97240392e-01, 3.40263373e-04, 9.34522611e-04, 1.48482205e-03],\n",
       "       [7.19405519e-01, 1.96571536e-02, 1.18336310e-01, 1.42601017e-01],\n",
       "       [9.01571247e-02, 1.74501997e-01, 4.47191945e-01, 2.88148933e-01],\n",
       "       ...,\n",
       "       [7.16044149e-02, 1.32841929e-01, 5.29259086e-01, 2.66294569e-01],\n",
       "       [9.94381949e-01, 8.80927066e-04, 1.79285042e-03, 2.94427307e-03],\n",
       "       [9.92981479e-01, 4.45987961e-04, 2.20539174e-03, 4.36714085e-03]])"
      ]
     },
     "execution_count": 47,
     "metadata": {},
     "output_type": "execute_result"
    }
   ],
   "source": [
    "final_prob = predprobsnew*0.35 + predprobs1new*0.65\n",
    "final_prob"
   ]
  },
  {
   "cell_type": "code",
   "execution_count": 48,
   "metadata": {
    "execution": {
     "iopub.execute_input": "2022-10-26T16:01:40.328620Z",
     "iopub.status.busy": "2022-10-26T16:01:40.327419Z",
     "iopub.status.idle": "2022-10-26T16:01:40.338190Z",
     "shell.execute_reply": "2022-10-26T16:01:40.337020Z",
     "shell.execute_reply.started": "2022-10-26T16:01:40.328574Z"
    }
   },
   "outputs": [],
   "source": [
    "#takes the highest index in each row for the final output\n",
    "final_vals = np.argmax(final_prob, axis=1)"
   ]
  },
  {
   "cell_type": "code",
   "execution_count": 52,
   "metadata": {
    "execution": {
     "iopub.execute_input": "2022-10-26T16:02:18.137600Z",
     "iopub.status.busy": "2022-10-26T16:02:18.136385Z",
     "iopub.status.idle": "2022-10-26T16:02:18.680721Z",
     "shell.execute_reply": "2022-10-26T16:02:18.679658Z",
     "shell.execute_reply.started": "2022-10-26T16:02:18.137556Z"
    }
   },
   "outputs": [],
   "source": [
    "#generating the final submission file\n",
    "subs = pd.DataFrame()\n",
    "subs['id'] = ids\n",
    "subs['pred'] = final_vals\n",
    "subs.to_csv(\"final_submission.csv\", header=False, index=False)"
   ]
  }
 ],
 "metadata": {
  "kernelspec": {
   "display_name": "Python 3 (ipykernel)",
   "language": "python",
   "name": "python3"
  },
  "language_info": {
   "codemirror_mode": {
    "name": "ipython",
    "version": 3
   },
   "file_extension": ".py",
   "mimetype": "text/x-python",
   "name": "python",
   "nbconvert_exporter": "python",
   "pygments_lexer": "ipython3",
   "version": "3.9.12"
  }
 },
 "nbformat": 4,
 "nbformat_minor": 4
}
